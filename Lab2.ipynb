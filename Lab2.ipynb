{
 "cells": [
  {
   "cell_type": "markdown",
   "metadata": {},
   "source": [
    "# 2. Write a program to explore different string functions."
   ]
  },
  {
   "cell_type": "code",
   "execution_count": 4,
   "metadata": {},
   "outputs": [
    {
     "name": "stdout",
     "output_type": "stream",
     "text": [
      " This notes will help you to explore all the concepts of Python Strings!!! \n"
     ]
    }
   ],
   "source": [
    "# Create Strings\n",
    "String_var = 'Python'\n",
    "String_var = \"Python\"\n",
    "String_var = \"\"\"Python\"\"\"\n",
    "\n",
    "# with Triple quotes Strings can extend to multiple lines\n",
    "String_var = \"\"\" This document will help you to explore all the concepts of Python Strings!!! \"\"\"\n",
    "\n",
    "# Replace \"document\" with \"Notes\" and store in another variable\n",
    "substr_var = String_var.replace(\"document\", \"notes\")\n",
    "print (substr_var)"
   ]
  },
  {
   "cell_type": "markdown",
   "metadata": {},
   "source": [
    "Index and Slice Strings in Python"
   ]
  },
  {
   "cell_type": "code",
   "execution_count": 5,
   "metadata": {},
   "outputs": [
    {
     "name": "stdout",
     "output_type": "stream",
     "text": [
      "P\n",
      "g\n",
      "n\n"
     ]
    }
   ],
   "source": [
    "sample_str = 'Python String'\n",
    "\n",
    "print (sample_str[0])       # return 1st character\n",
    "\n",
    "print (sample_str[-1])      # return last character\n",
    "\n",
    "print (sample_str[-2])      # return last second character"
   ]
  },
  {
   "cell_type": "markdown",
   "metadata": {},
   "source": [
    "Slice a String in Python"
   ]
  },
  {
   "cell_type": "code",
   "execution_count": 6,
   "metadata": {},
   "outputs": [
    {
     "name": "stdout",
     "output_type": "stream",
     "text": [
      "ho\n",
      "String\n",
      "Python\n",
      "St\n"
     ]
    }
   ],
   "source": [
    "sample_str = 'Python String'\n",
    "print (sample_str[3:5])     #return a range of character\n",
    "\n",
    "print (sample_str[7:])      # return all characters from index 7\n",
    "\n",
    "print (sample_str[:6])      # return all characters before index 6\n",
    "\n",
    "print (sample_str[7:-4])\n"
   ]
  },
  {
   "cell_type": "markdown",
   "metadata": {},
   "source": [
    "Modify/Delete a String in Python"
   ]
  },
  {
   "cell_type": "code",
   "execution_count": 7,
   "metadata": {},
   "outputs": [
    {
     "ename": "TypeError",
     "evalue": "'str' object does not support item assignment",
     "output_type": "error",
     "traceback": [
      "\u001b[1;31m---------------------------------------------------------------------------\u001b[0m",
      "\u001b[1;31mTypeError\u001b[0m                                 Traceback (most recent call last)",
      "\u001b[1;32m<ipython-input-7-baff5d2410f5>\u001b[0m in \u001b[0;36m<module>\u001b[1;34m\u001b[0m\n\u001b[0;32m      1\u001b[0m \u001b[0msample_str\u001b[0m \u001b[1;33m=\u001b[0m \u001b[1;34m'Python String'\u001b[0m\u001b[1;33m\u001b[0m\u001b[1;33m\u001b[0m\u001b[0m\n\u001b[1;32m----> 2\u001b[1;33m \u001b[0msample_str\u001b[0m\u001b[1;33m[\u001b[0m\u001b[1;36m2\u001b[0m\u001b[1;33m]\u001b[0m \u001b[1;33m=\u001b[0m \u001b[1;34m'a'\u001b[0m\u001b[1;33m\u001b[0m\u001b[1;33m\u001b[0m\u001b[0m\n\u001b[0m",
      "\u001b[1;31mTypeError\u001b[0m: 'str' object does not support item assignment"
     ]
    }
   ],
   "source": [
    "sample_str = 'Python String'\n",
    "sample_str[2] = 'a'"
   ]
  },
  {
   "cell_type": "code",
   "execution_count": 8,
   "metadata": {},
   "outputs": [
    {
     "name": "stdout",
     "output_type": "stream",
     "text": [
      "Programming String\n"
     ]
    }
   ],
   "source": [
    "sample_str = 'Programming String'\n",
    "print (sample_str)"
   ]
  },
  {
   "cell_type": "code",
   "execution_count": 9,
   "metadata": {},
   "outputs": [
    {
     "ename": "TypeError",
     "evalue": "'str' object doesn't support item deletion",
     "output_type": "error",
     "traceback": [
      "\u001b[1;31m---------------------------------------------------------------------------\u001b[0m",
      "\u001b[1;31mTypeError\u001b[0m                                 Traceback (most recent call last)",
      "\u001b[1;32m<ipython-input-9-d55d4948763f>\u001b[0m in \u001b[0;36m<module>\u001b[1;34m\u001b[0m\n\u001b[0;32m      1\u001b[0m \u001b[0msample_str\u001b[0m \u001b[1;33m=\u001b[0m \u001b[1;34m\"Python is the best scripting language.\"\u001b[0m\u001b[1;33m\u001b[0m\u001b[1;33m\u001b[0m\u001b[0m\n\u001b[1;32m----> 2\u001b[1;33m \u001b[1;32mdel\u001b[0m \u001b[0msample_str\u001b[0m\u001b[1;33m[\u001b[0m\u001b[1;36m1\u001b[0m\u001b[1;33m]\u001b[0m\u001b[1;33m\u001b[0m\u001b[1;33m\u001b[0m\u001b[0m\n\u001b[0m",
      "\u001b[1;31mTypeError\u001b[0m: 'str' object doesn't support item deletion"
     ]
    }
   ],
   "source": [
    "sample_str = \"Python is the best scripting language.\"\n",
    "del sample_str[1]"
   ]
  },
  {
   "cell_type": "code",
   "execution_count": 10,
   "metadata": {},
   "outputs": [
    {
     "ename": "NameError",
     "evalue": "name 'sample_str' is not defined",
     "output_type": "error",
     "traceback": [
      "\u001b[1;31m---------------------------------------------------------------------------\u001b[0m",
      "\u001b[1;31mNameError\u001b[0m                                 Traceback (most recent call last)",
      "\u001b[1;32m<ipython-input-10-d5b6341e733b>\u001b[0m in \u001b[0;36m<module>\u001b[1;34m\u001b[0m\n\u001b[0;32m      1\u001b[0m \u001b[1;32mdel\u001b[0m \u001b[0msample_str\u001b[0m\u001b[1;33m\u001b[0m\u001b[1;33m\u001b[0m\u001b[0m\n\u001b[1;32m----> 2\u001b[1;33m \u001b[0mprint\u001b[0m \u001b[1;33m(\u001b[0m\u001b[0msample_str\u001b[0m\u001b[1;33m)\u001b[0m\u001b[1;33m\u001b[0m\u001b[1;33m\u001b[0m\u001b[0m\n\u001b[0m",
      "\u001b[1;31mNameError\u001b[0m: name 'sample_str' is not defined"
     ]
    }
   ],
   "source": [
    "del sample_str\n",
    "print (sample_str)"
   ]
  },
  {
   "cell_type": "markdown",
   "metadata": {},
   "source": [
    "String Operators in Python"
   ]
  },
  {
   "cell_type": "code",
   "execution_count": 11,
   "metadata": {},
   "outputs": [
    {
     "name": "stdout",
     "output_type": "stream",
     "text": [
      "PythonString\n"
     ]
    }
   ],
   "source": [
    "#Concatenation (+)\n",
    "var1 = 'Python'\n",
    "var2 = 'String'\n",
    "print (var1+var2)"
   ]
  },
  {
   "cell_type": "code",
   "execution_count": 12,
   "metadata": {},
   "outputs": [
    {
     "name": "stdout",
     "output_type": "stream",
     "text": [
      "PythonPythonPython\n"
     ]
    }
   ],
   "source": [
    "#Repetition (*)\n",
    "var1 = 'Python'\n",
    "print (var1*3)"
   ]
  },
  {
   "cell_type": "code",
   "execution_count": 13,
   "metadata": {},
   "outputs": [
    {
     "name": "stdout",
     "output_type": "stream",
     "text": [
      "t\n",
      "tho\n",
      "True\n",
      "True\n",
      "Python"
     ]
    }
   ],
   "source": [
    "#Slicing [ ]\n",
    "var1 = 'Python'\n",
    "print (var1[2])\n",
    "\n",
    "#Range Slicing [x:y]\n",
    "var1 = 'Python'\n",
    "print (var1[2:5])\n",
    "\n",
    "#Membership (in)\n",
    "var1 = 'Python'\n",
    "print ('n' in var1)\n",
    "\n",
    "#Membership (not in)\n",
    "var1 = 'Python'\n",
    "print ('z' not in var1)\n",
    "\n",
    "#Iterating (for)\n",
    "for var in var1: \n",
    "    print (var, end =\"\")"
   ]
  },
  {
   "cell_type": "markdown",
   "metadata": {},
   "source": [
    "Built-in String Functions in Python"
   ]
  },
  {
   "cell_type": "code",
   "execution_count": 14,
   "metadata": {},
   "outputs": [
    {
     "name": "stdout",
     "output_type": "stream",
     "text": [
      "Python\n",
      "techbeamers\n",
      "TECHBEAMERS\n",
      "tECHbEAMERS\n",
      "Welcome To Python Programming\n"
     ]
    }
   ],
   "source": [
    "# capitalize()\n",
    "var = 'PYTHON'\n",
    "print (var.capitalize())\n",
    "\n",
    "#lower()\n",
    "var = 'TechBeamers'\n",
    "print (var.lower())\n",
    "\n",
    "#upper() \n",
    "var = 'TechBeamers'\n",
    "print (var.upper())\n",
    "\n",
    "#swapcase()\n",
    "var = 'TechBeamers'\n",
    "print (var.swapcase())\n",
    "\n",
    "#title() \n",
    "var = 'welcome to Python programming'\n",
    "print (var.title())"
   ]
  },
  {
   "cell_type": "markdown",
   "metadata": {},
   "source": [
    "Comparison Functions"
   ]
  },
  {
   "cell_type": "code",
   "execution_count": 15,
   "metadata": {},
   "outputs": [
    {
     "name": "stdout",
     "output_type": "stream",
     "text": [
      "True\n",
      "False\n",
      "True\n",
      "False\n",
      "True\n",
      "True\n"
     ]
    }
   ],
   "source": [
    "#isnumeric() \n",
    "num=u'2016'\n",
    "print (num.isnumeric())\n",
    "\n",
    "num=u'year2016'\n",
    "print (num.isnumeric())\n",
    "\n",
    "#isalpha() \n",
    "print ('python'.isalpha())\n",
    "print ('python3'.isalpha())\n",
    "\n",
    "#isalnum()\n",
    "print ('python'.isalnum())\n",
    "print ('python3'.isalnum())"
   ]
  },
  {
   "cell_type": "markdown",
   "metadata": {},
   "source": [
    "Padding Functions"
   ]
  },
  {
   "cell_type": "code",
   "execution_count": 16,
   "metadata": {},
   "outputs": [
    {
     "name": "stdout",
     "output_type": "stream",
     "text": [
      "    Python\n",
      "----Python\n",
      "Python    \n",
      "Python----\n",
      "       Python       \n",
      "*******Python*******\n",
      "0000Python\n",
      "+000Python\n"
     ]
    }
   ],
   "source": [
    "#rjust(width[,fillchar])\n",
    "var='Python'\n",
    "print (var.rjust(10))\n",
    "print (var.rjust(10,'-'))\n",
    "\n",
    "#ljust(width[,fillchar])\n",
    "var='Python'\n",
    "print (var.ljust(10))\n",
    "print (var.ljust(10,'-'))\n",
    "\n",
    "#center(width[,fillchar])\n",
    "var='Python'\n",
    "print (var.center(20))\n",
    "print (var.center(20,'*'))\n",
    "\n",
    "#zfill(width)\n",
    "var='Python'\n",
    "print (var.zfill(10))\n",
    "\n",
    "var='+Python'\n",
    "print (var.zfill(10))"
   ]
  },
  {
   "cell_type": "markdown",
   "metadata": {},
   "source": [
    "Search Functions"
   ]
  },
  {
   "cell_type": "code",
   "execution_count": 19,
   "metadata": {},
   "outputs": [
    {
     "name": "stdout",
     "output_type": "stream",
     "text": [
      "5\n",
      "5\n",
      "-1\n",
      "5\n",
      "5\n"
     ]
    },
    {
     "ename": "ValueError",
     "evalue": "substring not found",
     "output_type": "error",
     "traceback": [
      "\u001b[1;31m---------------------------------------------------------------------------\u001b[0m",
      "\u001b[1;31mValueError\u001b[0m                                Traceback (most recent call last)",
      "\u001b[1;32m<ipython-input-19-4be0d1eadbdd>\u001b[0m in \u001b[0;36m<module>\u001b[1;34m\u001b[0m\n\u001b[0;32m     23\u001b[0m \u001b[0mvar\u001b[0m\u001b[1;33m=\u001b[0m\u001b[1;34m'Tech Beamers'\u001b[0m\u001b[1;33m\u001b[0m\u001b[1;33m\u001b[0m\u001b[0m\n\u001b[0;32m     24\u001b[0m \u001b[0mstr\u001b[0m\u001b[1;33m=\u001b[0m\u001b[1;34m'Beam'\u001b[0m\u001b[1;33m\u001b[0m\u001b[1;33m\u001b[0m\u001b[0m\n\u001b[1;32m---> 25\u001b[1;33m \u001b[0mprint\u001b[0m \u001b[1;33m(\u001b[0m\u001b[0mvar\u001b[0m\u001b[1;33m.\u001b[0m\u001b[0mindex\u001b[0m\u001b[1;33m(\u001b[0m\u001b[0mstr\u001b[0m\u001b[1;33m,\u001b[0m\u001b[1;36m7\u001b[0m\u001b[1;33m)\u001b[0m\u001b[1;33m)\u001b[0m\u001b[1;33m\u001b[0m\u001b[1;33m\u001b[0m\u001b[0m\n\u001b[0m",
      "\u001b[1;31mValueError\u001b[0m: substring not found"
     ]
    }
   ],
   "source": [
    "#find(str [,i [,j]]) \n",
    "var=\"Tech Beamers\"\n",
    "str=\"Beam\"\n",
    "print (var.find(str))\n",
    "\n",
    "var=\"Tech Beamers\"\n",
    "str=\"Beam\"\n",
    "print (var.find(str,4))\n",
    "\n",
    "var=\"Tech Beamers\"\n",
    "str=\"Beam\"\n",
    "print (var.find(str,7))\n",
    "\n",
    "#index(str[,i [,j]])\n",
    "var='Tech Beamers'\n",
    "str='Beam'\n",
    "print (var.index(str))\n",
    "\n",
    "var='Tech Beamers'\n",
    "str='Beam'\n",
    "print (var.index(str,4))\n",
    "\n",
    "var='Tech Beamers'\n",
    "str='Beam'\n",
    "print (var.index(str,7))"
   ]
  },
  {
   "cell_type": "code",
   "execution_count": null,
   "metadata": {},
   "outputs": [],
   "source": []
  }
 ],
 "metadata": {
  "kernelspec": {
   "display_name": "Python 3",
   "language": "python",
   "name": "python3"
  },
  "language_info": {
   "codemirror_mode": {
    "name": "ipython",
    "version": 3
   },
   "file_extension": ".py",
   "mimetype": "text/x-python",
   "name": "python",
   "nbconvert_exporter": "python",
   "pygments_lexer": "ipython3",
   "version": "3.7.3"
  }
 },
 "nbformat": 4,
 "nbformat_minor": 2
}
