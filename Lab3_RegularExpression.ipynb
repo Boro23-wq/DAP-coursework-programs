{
 "cells": [
  {
   "cell_type": "markdown",
   "metadata": {},
   "source": [
    "# Demonstrate usage of regular expression in python"
   ]
  },
  {
   "cell_type": "markdown",
   "metadata": {},
   "source": [
    "A regular expression is a special sequence of characters that helps you match or find other strings or sets of strings, using a specialized syntax held in a pattern. Regular expressions are widely used in UNIX world.\n",
    "\n",
    "The Python module re provides full support for Perl-like regular expressions in Python. The re module raises the exception re.error if an error occurs while compiling or using a regular expression."
   ]
  },
  {
   "cell_type": "code",
   "execution_count": 19,
   "metadata": {},
   "outputs": [
    {
     "name": "stdout",
     "output_type": "stream",
     "text": [
      "Search successful.\n"
     ]
    }
   ],
   "source": [
    "import re\n",
    "\n",
    "pattern = '^a...s$'\n",
    "test_string = 'aby6s'\n",
    "result = re.match(pattern, test_string)\n",
    "\n",
    "if result:\n",
    "  print(\"Search successful.\")\n",
    "else:\n",
    "  print(\"Search unsuccessful.\")"
   ]
  },
  {
   "cell_type": "code",
   "execution_count": 20,
   "metadata": {},
   "outputs": [
    {
     "data": {
      "text/plain": [
       "re.compile(r'[a-e]', re.UNICODE)"
      ]
     },
     "execution_count": 20,
     "metadata": {},
     "output_type": "execute_result"
    }
   ],
   "source": [
    "import re\n",
    "p = re.compile('[a-e]') \n",
    "p"
   ]
  },
  {
   "cell_type": "markdown",
   "metadata": {},
   "source": [
    "Function compile()\n",
    "Regular expressions are compiled into pattern objects, which have methods for various operations such as searching for pattern matches or performing string substitutions."
   ]
  },
  {
   "cell_type": "code",
   "execution_count": 3,
   "metadata": {},
   "outputs": [
    {
     "name": "stdout",
     "output_type": "stream",
     "text": [
      "['e', 'a', 'd', 'b', 'e', 'a']\n"
     ]
    }
   ],
   "source": [
    "# Module Regular Expression is imported using __import__(). \n",
    "import re \n",
    "\n",
    "# compile() creates regular expression character class [a-e], \n",
    "# which is equivalent to [abcde]. \n",
    "# class [abcde] will match with string with 'a', 'b', 'c', 'd', 'e'. \n",
    "p = re.compile('[a-e]') \n",
    "\n",
    "# findall() searches for the Regular Expression and return a list upon finding \n",
    "print(p.findall(\"Aye, said Mr. Gibenson Stark\")) \n"
   ]
  },
  {
   "cell_type": "code",
   "execution_count": 4,
   "metadata": {},
   "outputs": [
    {
     "name": "stdout",
     "output_type": "stream",
     "text": [
      "['1', '1', '4', '1', '8', '8', '6']\n",
      "['11', '4', '1886']\n"
     ]
    }
   ],
   "source": [
    "import re \n",
    "\n",
    "# \\d is equivalent to [0-9]. \n",
    "p = re.compile('\\d') \n",
    "print(p.findall(\"I went to him at 11 A.M. on 4th July 1886\")) \n",
    "\n",
    "# \\d+ will match a group on [0-9], group of one or greater size \n",
    "p = re.compile('\\d+') \n",
    "print(p.findall(\"I went to him at 11 A.M. on 4th July 1886\")) \n"
   ]
  },
  {
   "cell_type": "code",
   "execution_count": 22,
   "metadata": {},
   "outputs": [
    {
     "name": "stdout",
     "output_type": "stream",
     "text": [
      "['H', 'e', 's', 'a', 'i', 'd', 'i', 'n', 's', 'o', 'm', 'e', '_', 'l', 'a', 'n', 'g']\n",
      "['I', 'went', 'to', 'him', 'at', '11', 'A', 'M', 'he', 'said', 'in', 'some_language']\n",
      "[' ', ' ', '*', '*', '*', ' ', ' ', '.']\n"
     ]
    }
   ],
   "source": [
    "import re \n",
    "\n",
    "# \\w is equivalent to [a-zA-Z0-9_]. \n",
    "p = re.compile('\\w') \n",
    "print(p.findall(\"He said * in some_lang.\")) \n",
    "\n",
    "# \\w+ matches to group of alphanumeric character. \n",
    "p = re.compile('\\w+') \n",
    "print(p.findall(\"I went to him at 11 A.M., he said *** in some_language.\")) \n",
    "\n",
    "# \\W matches to non alphanumeric characters. \n",
    "p = re.compile('\\W') \n",
    "print(p.findall(\"he said *** in some_language.\")) \n"
   ]
  },
  {
   "cell_type": "code",
   "execution_count": 25,
   "metadata": {},
   "outputs": [
    {
     "name": "stdout",
     "output_type": "stream",
     "text": [
      "['abb', 'abbb']\n"
     ]
    }
   ],
   "source": [
    "import re \n",
    "\n",
    "# '*' replaces the no. of occurrence of a character. \n",
    "p = re.compile('abbb*') \n",
    "print(p.findall(\"ababbaabbb\")) \n"
   ]
  },
  {
   "cell_type": "markdown",
   "metadata": {},
   "source": [
    "Function split()\n",
    "Split string by the occurrences of a character or a pattern, upon finding that pattern, the remaining characters from the string are returned as part of the resulting list."
   ]
  },
  {
   "cell_type": "code",
   "execution_count": 7,
   "metadata": {},
   "outputs": [
    {
     "name": "stdout",
     "output_type": "stream",
     "text": [
      "['Words', 'words', 'Words']\n",
      "['Word', 's', 'words', 'Words']\n",
      "['On', '12th', 'Jan', '2016', 'at', '11', '02', 'AM']\n",
      "['On ', 'th Jan ', ', at ', ':', ' AM']\n"
     ]
    }
   ],
   "source": [
    "from re import split \n",
    "\n",
    "# '\\W+' denotes Non-Alphanumeric Characters or group of characters \n",
    "# Upon finding ',' or whitespace ' ', the split(), splits the string from that point \n",
    "print(split('\\W+', 'Words, words , Words')) \n",
    "print(split('\\W+', \"Word's words Words\")) \n",
    "\n",
    "# Here ':', ' ' ,',' are not AlphaNumeric thus, the point where splitting occurs \n",
    "print(split('\\W+', 'On 12th Jan 2016, at 11:02 AM')) \n",
    "\n",
    "# '\\d+' denotes Numeric Characters or group of characters \n",
    "# Splitting occurs at '12', '2016', '11', '02' only \n",
    "print(split('\\d+', 'On 12th Jan 2016, at 11:02 AM')) \n"
   ]
  },
  {
   "cell_type": "code",
   "execution_count": 35,
   "metadata": {},
   "outputs": [
    {
     "name": "stdout",
     "output_type": "stream",
     "text": [
      "['On ', 'th Jan 2016, at 11:02 AM']\n"
     ]
    }
   ],
   "source": [
    "import re \n",
    "\n",
    "# Splitting will occurs only once, at '12', returned list will have length 2 \n",
    "print(re.split('\\d+', 'On 12th Jan 2016, at 11:02 AM', 1)) \n"
   ]
  },
  {
   "cell_type": "markdown",
   "metadata": {},
   "source": [
    "Function sub()\n",
    "Syntax:\n",
    " re.sub(pattern, repl, string, count=0, flags=0)\n",
    "The ‘sub’ in the function stands for SubString, a certain regular expression pattern is searched in the given string(3rd parameter), and upon finding the substring pattern is replaced by repl(2nd parameter), count checks and maintains the number of times this occurs."
   ]
  },
  {
   "cell_type": "code",
   "execution_count": 36,
   "metadata": {},
   "outputs": [
    {
     "name": "stdout",
     "output_type": "stream",
     "text": [
      "S~*ject has ~*er booked already\n",
      "S~*ject has Uber booked already\n",
      "S~*ject has Uber booked already\n",
      "Baked Beans & Sprouts\n"
     ]
    }
   ],
   "source": [
    "import re \n",
    "\n",
    "# Regular Expression pattern 'ub' matches the string at \"Subject\" and \"Uber\". \n",
    "# As the CASE has been ignored, using Flag, 'ub' should match twice with the string \n",
    "# Upon matching, 'ub' is replaced by '~*' in \"Subject\", and in \"Uber\", 'Ub' is replaced. \n",
    "print(re.sub('ub', '~*' , 'Subject has Uber booked already', flags = re.IGNORECASE)) \n",
    "\n",
    "# Consider the Case Sensitivity, 'Ub' in \"Uber\", will not be reaplced. \n",
    "print(re.sub('ub', '~*' , 'Subject has Uber booked already')) \n",
    "\n",
    "# As count has been given value 1, the maximum times replacement occurs is 1 \n",
    "print(re.sub('ub', '~*' , 'Subject has Uber booked already', count=1, flags = re.IGNORECASE)) \n",
    "\n",
    "# 'r' before the patter denotes RE, \\s is for start and end of a String. \n",
    "print(re.sub(r'\\sAND\\s', ' & ', 'Baked Beans And Sprouts', flags=re.IGNORECASE)) \n"
   ]
  },
  {
   "cell_type": "markdown",
   "metadata": {},
   "source": [
    "Function subn()\n",
    "Syntax:\n",
    " re.subn(pattern, repl, string, count=0, flags=0)\n",
    "subn() is similar to sub() in all ways, except in its way to providing output. It returns a tuple with count of total of replacement and the new string rather than just the string."
   ]
  },
  {
   "cell_type": "code",
   "execution_count": 10,
   "metadata": {},
   "outputs": [
    {
     "name": "stdout",
     "output_type": "stream",
     "text": [
      "('S~*ject has Uber booked already', 1)\n",
      "('S~*ject has ~*er booked already', 2)\n",
      "2\n",
      "S~*ject has ~*er booked already\n"
     ]
    }
   ],
   "source": [
    "import re \n",
    "print(re.subn('ub', '~*' , 'Subject has Uber booked already')) \n",
    "t = re.subn('ub', '~*' , 'Subject has Uber booked already', flags = re.IGNORECASE) \n",
    "print(t) \n",
    "print(len(t)) \n",
    "\n",
    "# This will give same output as sub() would have \n",
    "print(t[0]) \n"
   ]
  },
  {
   "cell_type": "markdown",
   "metadata": {},
   "source": [
    "Function escape()\n",
    "Syntax:\n",
    "re.escape(string)\n",
    "Return string with all non-alphanumerics backslashed, this is useful if you want to match an arbitrary literal string that may have regular expression metacharacters in it."
   ]
  },
  {
   "cell_type": "code",
   "execution_count": 11,
   "metadata": {},
   "outputs": [
    {
     "name": "stdout",
     "output_type": "stream",
     "text": [
      "This\\ is\\ Awseome\\ even\\ 1\\ AM\n",
      "I\\ Asked\\ what\\ is\\ this\\ \\[a\\-9\\],\\ he\\ said\\ \\\t\\ \\^WoW\n"
     ]
    }
   ],
   "source": [
    "import re \n",
    "\n",
    "# escape() returns a string with BackSlash '\\', before every Non-Alphanumeric Character \n",
    "# In 1st case only ' ', is not alphanumeric \n",
    "# In 2nd case, ' ', caret '^', '-', '[]', '\\' are not alphanumeric \n",
    "print(re.escape(\"This is Awseome even 1 AM\")) \n",
    "print(re.escape(\"I Asked what is this [a-9], he said \\t ^WoW\")) \n"
   ]
  },
  {
   "cell_type": "code",
   "execution_count": null,
   "metadata": {},
   "outputs": [],
   "source": []
  }
 ],
 "metadata": {
  "kernelspec": {
   "display_name": "Python 3",
   "language": "python",
   "name": "python3"
  },
  "language_info": {
   "codemirror_mode": {
    "name": "ipython",
    "version": 3
   },
   "file_extension": ".py",
   "mimetype": "text/x-python",
   "name": "python",
   "nbconvert_exporter": "python",
   "pygments_lexer": "ipython3",
   "version": "3.7.3"
  }
 },
 "nbformat": 4,
 "nbformat_minor": 2
}
